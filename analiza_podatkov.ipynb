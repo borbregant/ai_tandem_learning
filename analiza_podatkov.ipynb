{
 "cells": [
  {
   "attachments": {},
   "cell_type": "markdown",
   "metadata": {},
   "source": [
    "# Strojno učenje\n",
    "\n",
    "### PAZI ce je f-score zelo majhen, je lahko ker dobi za določen class z nizkim N vrednost 0 in naredi povprečje!"
   ]
  },
  {
   "cell_type": "code",
   "execution_count": 14,
   "metadata": {},
   "outputs": [],
   "source": [
    "import warnings\n",
    "warnings.filterwarnings('always')"
   ]
  },
  {
   "cell_type": "code",
   "execution_count": 15,
   "metadata": {},
   "outputs": [],
   "source": [
    "import pandas as pd\n",
    "import numpy as np\n",
    "from matplotlib import pyplot as plt\n",
    "\n",
    "df = pd.read_excel(\"data_cleaned.xlsx\")\n",
    "df = df.drop('Unnamed: 0', axis=1)"
   ]
  },
  {
   "cell_type": "code",
   "execution_count": 16,
   "metadata": {},
   "outputs": [],
   "source": [
    "#Poskusimo narediti le dva classa\n",
    "\n",
    "#df['Uspesnost'].replace({1:0,2: 0, 3: 1}, inplace=True)"
   ]
  },
  {
   "cell_type": "code",
   "execution_count": 17,
   "metadata": {},
   "outputs": [],
   "source": [
    "#df = df.apply(pd.to_numeric, errors='coerce')"
   ]
  },
  {
   "cell_type": "code",
   "execution_count": 18,
   "metadata": {},
   "outputs": [
    {
     "data": {
      "text/html": [
       "<div>\n",
       "<style scoped>\n",
       "    .dataframe tbody tr th:only-of-type {\n",
       "        vertical-align: middle;\n",
       "    }\n",
       "\n",
       "    .dataframe tbody tr th {\n",
       "        vertical-align: top;\n",
       "    }\n",
       "\n",
       "    .dataframe thead th {\n",
       "        text-align: right;\n",
       "    }\n",
       "</style>\n",
       "<table border=\"1\" class=\"dataframe\">\n",
       "  <thead>\n",
       "    <tr style=\"text-align: right;\">\n",
       "      <th></th>\n",
       "      <th>Uspesnost</th>\n",
       "      <th>Ocena</th>\n",
       "      <th>Interakcija_kvantitativno</th>\n",
       "      <th>Interakcija_kvalitativno</th>\n",
       "      <th>Outperforming_partner</th>\n",
       "      <th>Razred</th>\n",
       "      <th>Profesor</th>\n",
       "      <th>Spol</th>\n",
       "      <th>Motivacija</th>\n",
       "      <th>Anksioznost</th>\n",
       "      <th>Introvertiranost</th>\n",
       "      <th>Sensing</th>\n",
       "      <th>Feeling</th>\n",
       "      <th>Judging</th>\n",
       "    </tr>\n",
       "  </thead>\n",
       "  <tbody>\n",
       "    <tr>\n",
       "      <th>0</th>\n",
       "      <td>0</td>\n",
       "      <td>5</td>\n",
       "      <td>3</td>\n",
       "      <td>3</td>\n",
       "      <td>2</td>\n",
       "      <td>0</td>\n",
       "      <td>1</td>\n",
       "      <td>0</td>\n",
       "      <td>17</td>\n",
       "      <td>27</td>\n",
       "      <td>19</td>\n",
       "      <td>17</td>\n",
       "      <td>25</td>\n",
       "      <td>26</td>\n",
       "    </tr>\n",
       "    <tr>\n",
       "      <th>1</th>\n",
       "      <td>1</td>\n",
       "      <td>2</td>\n",
       "      <td>3</td>\n",
       "      <td>2</td>\n",
       "      <td>2</td>\n",
       "      <td>0</td>\n",
       "      <td>1</td>\n",
       "      <td>0</td>\n",
       "      <td>20</td>\n",
       "      <td>22</td>\n",
       "      <td>20</td>\n",
       "      <td>31</td>\n",
       "      <td>33</td>\n",
       "      <td>20</td>\n",
       "    </tr>\n",
       "    <tr>\n",
       "      <th>2</th>\n",
       "      <td>0</td>\n",
       "      <td>4</td>\n",
       "      <td>2</td>\n",
       "      <td>2</td>\n",
       "      <td>2</td>\n",
       "      <td>0</td>\n",
       "      <td>1</td>\n",
       "      <td>0</td>\n",
       "      <td>27</td>\n",
       "      <td>30</td>\n",
       "      <td>25</td>\n",
       "      <td>25</td>\n",
       "      <td>25</td>\n",
       "      <td>23</td>\n",
       "    </tr>\n",
       "    <tr>\n",
       "      <th>3</th>\n",
       "      <td>1</td>\n",
       "      <td>2</td>\n",
       "      <td>2</td>\n",
       "      <td>2</td>\n",
       "      <td>1</td>\n",
       "      <td>0</td>\n",
       "      <td>1</td>\n",
       "      <td>0</td>\n",
       "      <td>20</td>\n",
       "      <td>17</td>\n",
       "      <td>21</td>\n",
       "      <td>25</td>\n",
       "      <td>34</td>\n",
       "      <td>25</td>\n",
       "    </tr>\n",
       "    <tr>\n",
       "      <th>4</th>\n",
       "      <td>0</td>\n",
       "      <td>4</td>\n",
       "      <td>2</td>\n",
       "      <td>2</td>\n",
       "      <td>3</td>\n",
       "      <td>0</td>\n",
       "      <td>1</td>\n",
       "      <td>1</td>\n",
       "      <td>21</td>\n",
       "      <td>24</td>\n",
       "      <td>23</td>\n",
       "      <td>23</td>\n",
       "      <td>20</td>\n",
       "      <td>24</td>\n",
       "    </tr>\n",
       "  </tbody>\n",
       "</table>\n",
       "</div>"
      ],
      "text/plain": [
       "   Uspesnost  Ocena  Interakcija_kvantitativno  Interakcija_kvalitativno  \\\n",
       "0          0      5                          3                         3   \n",
       "1          1      2                          3                         2   \n",
       "2          0      4                          2                         2   \n",
       "3          1      2                          2                         2   \n",
       "4          0      4                          2                         2   \n",
       "\n",
       "   Outperforming_partner  Razred  Profesor  Spol  Motivacija  Anksioznost  \\\n",
       "0                      2       0         1     0          17           27   \n",
       "1                      2       0         1     0          20           22   \n",
       "2                      2       0         1     0          27           30   \n",
       "3                      1       0         1     0          20           17   \n",
       "4                      3       0         1     1          21           24   \n",
       "\n",
       "   Introvertiranost  Sensing  Feeling  Judging  \n",
       "0                19       17       25       26  \n",
       "1                20       31       33       20  \n",
       "2                25       25       25       23  \n",
       "3                21       25       34       25  \n",
       "4                23       23       20       24  "
      ]
     },
     "execution_count": 18,
     "metadata": {},
     "output_type": "execute_result"
    }
   ],
   "source": [
    "df.head()"
   ]
  },
  {
   "cell_type": "code",
   "execution_count": 19,
   "metadata": {},
   "outputs": [],
   "source": [
    "X = df.drop(\"Uspesnost\", axis=1)\n",
    "y = df[\"Uspesnost\"]"
   ]
  },
  {
   "cell_type": "code",
   "execution_count": 20,
   "metadata": {},
   "outputs": [
    {
     "name": "stdout",
     "output_type": "stream",
     "text": [
      "> Class=0 : 45/88 (51.1%)\n",
      "> Class=1 : 43/88 (48.9%)\n"
     ]
    }
   ],
   "source": [
    "from numpy import unique\n",
    "classes = unique(y)\n",
    "total = len(y)\n",
    "for c in classes:\n",
    " n_examples = len(y[y==c])\n",
    " percent = n_examples / total * 100\n",
    " print('> Class=%d : %d/%d (%.1f%%)' % (c, n_examples, total, percent))"
   ]
  },
  {
   "attachments": {},
   "cell_type": "markdown",
   "metadata": {},
   "source": [
    "## Strojno učenje"
   ]
  },
  {
   "cell_type": "code",
   "execution_count": 21,
   "metadata": {},
   "outputs": [
    {
     "name": "stdout",
     "output_type": "stream",
     "text": [
      "Naive Bayes\n",
      "K-Nearest Neighbors\n"
     ]
    },
    {
     "name": "stderr",
     "output_type": "stream",
     "text": [
      "c:\\Users\\borbr\\AppData\\Local\\Programs\\Python\\Python311\\Lib\\site-packages\\sklearn\\metrics\\_classification.py:1344: UndefinedMetricWarning: Precision is ill-defined and being set to 0.0 in labels with no predicted samples. Use `zero_division` parameter to control this behavior.\n",
      "  _warn_prf(average, modifier, msg_start, len(result))\n",
      "C:\\Users\\borbr\\AppData\\Local\\Temp\\ipykernel_3508\\1031354506.py:74: FutureWarning: The frame.append method is deprecated and will be removed from pandas in a future version. Use pandas.concat instead.\n",
      "  results_df = results_df.append({\n",
      "C:\\Users\\borbr\\AppData\\Local\\Temp\\ipykernel_3508\\1031354506.py:74: FutureWarning: The frame.append method is deprecated and will be removed from pandas in a future version. Use pandas.concat instead.\n",
      "  results_df = results_df.append({\n",
      "C:\\Users\\borbr\\AppData\\Local\\Temp\\ipykernel_3508\\1031354506.py:74: FutureWarning: The frame.append method is deprecated and will be removed from pandas in a future version. Use pandas.concat instead.\n",
      "  results_df = results_df.append({\n",
      "c:\\Users\\borbr\\AppData\\Local\\Programs\\Python\\Python311\\Lib\\site-packages\\sklearn\\metrics\\_classification.py:1344: UndefinedMetricWarning: Precision is ill-defined and being set to 0.0 in labels with no predicted samples. Use `zero_division` parameter to control this behavior.\n",
      "  _warn_prf(average, modifier, msg_start, len(result))\n",
      "c:\\Users\\borbr\\AppData\\Local\\Programs\\Python\\Python311\\Lib\\site-packages\\sklearn\\metrics\\_classification.py:1344: UndefinedMetricWarning: Precision is ill-defined and being set to 0.0 in labels with no predicted samples. Use `zero_division` parameter to control this behavior.\n",
      "  _warn_prf(average, modifier, msg_start, len(result))\n",
      "c:\\Users\\borbr\\AppData\\Local\\Programs\\Python\\Python311\\Lib\\site-packages\\sklearn\\metrics\\_classification.py:1344: UndefinedMetricWarning: Recall is ill-defined and being set to 0.0 in labels with no true samples. Use `zero_division` parameter to control this behavior.\n",
      "  _warn_prf(average, modifier, msg_start, len(result))\n"
     ]
    },
    {
     "name": "stdout",
     "output_type": "stream",
     "text": [
      "Decision Tree\n",
      "Gaussian Mixture\n"
     ]
    },
    {
     "name": "stderr",
     "output_type": "stream",
     "text": [
      "c:\\Users\\borbr\\AppData\\Local\\Programs\\Python\\Python311\\Lib\\site-packages\\sklearn\\metrics\\_classification.py:1344: UndefinedMetricWarning: Precision is ill-defined and being set to 0.0 in labels with no predicted samples. Use `zero_division` parameter to control this behavior.\n",
      "  _warn_prf(average, modifier, msg_start, len(result))\n",
      "c:\\Users\\borbr\\AppData\\Local\\Programs\\Python\\Python311\\Lib\\site-packages\\sklearn\\metrics\\_classification.py:1344: UndefinedMetricWarning: Recall is ill-defined and being set to 0.0 in labels with no true samples. Use `zero_division` parameter to control this behavior.\n",
      "  _warn_prf(average, modifier, msg_start, len(result))\n",
      "c:\\Users\\borbr\\AppData\\Local\\Programs\\Python\\Python311\\Lib\\site-packages\\sklearn\\metrics\\_classification.py:1344: UndefinedMetricWarning: Precision is ill-defined and being set to 0.0 in labels with no predicted samples. Use `zero_division` parameter to control this behavior.\n",
      "  _warn_prf(average, modifier, msg_start, len(result))\n",
      "c:\\Users\\borbr\\AppData\\Local\\Programs\\Python\\Python311\\Lib\\site-packages\\sklearn\\metrics\\_classification.py:1344: UndefinedMetricWarning: Recall is ill-defined and being set to 0.0 in labels with no true samples. Use `zero_division` parameter to control this behavior.\n",
      "  _warn_prf(average, modifier, msg_start, len(result))\n",
      "c:\\Users\\borbr\\AppData\\Local\\Programs\\Python\\Python311\\Lib\\site-packages\\sklearn\\metrics\\_classification.py:1344: UndefinedMetricWarning: Precision is ill-defined and being set to 0.0 in labels with no predicted samples. Use `zero_division` parameter to control this behavior.\n",
      "  _warn_prf(average, modifier, msg_start, len(result))\n",
      "c:\\Users\\borbr\\AppData\\Local\\Programs\\Python\\Python311\\Lib\\site-packages\\sklearn\\metrics\\_classification.py:1344: UndefinedMetricWarning: Recall is ill-defined and being set to 0.0 in labels with no true samples. Use `zero_division` parameter to control this behavior.\n",
      "  _warn_prf(average, modifier, msg_start, len(result))\n",
      "C:\\Users\\borbr\\AppData\\Local\\Temp\\ipykernel_3508\\1031354506.py:74: FutureWarning: The frame.append method is deprecated and will be removed from pandas in a future version. Use pandas.concat instead.\n",
      "  results_df = results_df.append({\n",
      "c:\\Users\\borbr\\AppData\\Local\\Programs\\Python\\Python311\\Lib\\site-packages\\sklearn\\metrics\\_classification.py:1344: UndefinedMetricWarning: Precision is ill-defined and being set to 0.0 in labels with no predicted samples. Use `zero_division` parameter to control this behavior.\n",
      "  _warn_prf(average, modifier, msg_start, len(result))\n",
      "C:\\Users\\borbr\\AppData\\Local\\Temp\\ipykernel_3508\\1031354506.py:74: FutureWarning: The frame.append method is deprecated and will be removed from pandas in a future version. Use pandas.concat instead.\n",
      "  results_df = results_df.append({\n"
     ]
    },
    {
     "name": "stdout",
     "output_type": "stream",
     "text": [
      "Linear Discriminant Analysis\n",
      "AdaBoost\n"
     ]
    },
    {
     "name": "stderr",
     "output_type": "stream",
     "text": [
      "c:\\Users\\borbr\\AppData\\Local\\Programs\\Python\\Python311\\Lib\\site-packages\\sklearn\\metrics\\_classification.py:1344: UndefinedMetricWarning: Precision is ill-defined and being set to 0.0 in labels with no predicted samples. Use `zero_division` parameter to control this behavior.\n",
      "  _warn_prf(average, modifier, msg_start, len(result))\n",
      "C:\\Users\\borbr\\AppData\\Local\\Temp\\ipykernel_3508\\1031354506.py:74: FutureWarning: The frame.append method is deprecated and will be removed from pandas in a future version. Use pandas.concat instead.\n",
      "  results_df = results_df.append({\n"
     ]
    },
    {
     "name": "stdout",
     "output_type": "stream",
     "text": [
      "Gradient Boosting\n"
     ]
    },
    {
     "name": "stderr",
     "output_type": "stream",
     "text": [
      "c:\\Users\\borbr\\AppData\\Local\\Programs\\Python\\Python311\\Lib\\site-packages\\sklearn\\metrics\\_classification.py:1344: UndefinedMetricWarning: Precision is ill-defined and being set to 0.0 in labels with no predicted samples. Use `zero_division` parameter to control this behavior.\n",
      "  _warn_prf(average, modifier, msg_start, len(result))\n",
      "C:\\Users\\borbr\\AppData\\Local\\Temp\\ipykernel_3508\\1031354506.py:74: FutureWarning: The frame.append method is deprecated and will be removed from pandas in a future version. Use pandas.concat instead.\n",
      "  results_df = results_df.append({\n",
      "C:\\Users\\borbr\\AppData\\Local\\Temp\\ipykernel_3508\\1031354506.py:74: FutureWarning: The frame.append method is deprecated and will be removed from pandas in a future version. Use pandas.concat instead.\n",
      "  results_df = results_df.append({\n"
     ]
    },
    {
     "name": "stdout",
     "output_type": "stream",
     "text": [
      "Support Vector Machine\n",
      "Random Forest\n"
     ]
    },
    {
     "name": "stderr",
     "output_type": "stream",
     "text": [
      "c:\\Users\\borbr\\AppData\\Local\\Programs\\Python\\Python311\\Lib\\site-packages\\sklearn\\metrics\\_classification.py:1344: UndefinedMetricWarning: Precision is ill-defined and being set to 0.0 in labels with no predicted samples. Use `zero_division` parameter to control this behavior.\n",
      "  _warn_prf(average, modifier, msg_start, len(result))\n"
     ]
    },
    {
     "name": "stdout",
     "output_type": "stream",
     "text": [
      "                     Classifier  Accuracy  Precision    Recall  F1-score\n",
      "0                   Naive Bayes  0.590850   0.563041  0.594444  0.541022\n",
      "1           K-Nearest Neighbors  0.522876   0.530513  0.526389  0.512450\n",
      "2                 Decision Tree  0.647712   0.660107  0.648611  0.639460\n",
      "3              Gaussian Mixture  0.326797   0.200659  0.251429  0.209444\n",
      "4  Linear Discriminant Analysis  0.604575   0.555581  0.602778  0.560208\n",
      "5                      AdaBoost  0.479085   0.421902  0.476389  0.429855\n",
      "6             Gradient Boosting  0.569281   0.531127  0.568056  0.525885\n",
      "7        Support Vector Machine  0.592810   0.639725  0.587500  0.554187\n",
      "8                 Random Forest  0.569281   0.519790  0.569444  0.527941\n"
     ]
    },
    {
     "name": "stderr",
     "output_type": "stream",
     "text": [
      "C:\\Users\\borbr\\AppData\\Local\\Temp\\ipykernel_3508\\1031354506.py:74: FutureWarning: The frame.append method is deprecated and will be removed from pandas in a future version. Use pandas.concat instead.\n",
      "  results_df = results_df.append({\n"
     ]
    }
   ],
   "source": [
    "import numpy as np\n",
    "import pandas as pd\n",
    "from sklearn.preprocessing import OneHotEncoder\n",
    "from sklearn.svm import SVC\n",
    "from sklearn.ensemble import RandomForestClassifier\n",
    "from sklearn.preprocessing import OneHotEncoder, LabelEncoder\n",
    "from sklearn.compose import ColumnTransformer\n",
    "from sklearn.pipeline import Pipeline\n",
    "from sklearn.datasets import make_classification\n",
    "from sklearn.model_selection import cross_validate\n",
    "from sklearn.naive_bayes import GaussianNB\n",
    "from sklearn.neighbors import KNeighborsClassifier\n",
    "from sklearn.tree import DecisionTreeClassifier\n",
    "from sklearn.mixture import GaussianMixture\n",
    "from sklearn.discriminant_analysis import LinearDiscriminantAnalysis\n",
    "from sklearn.ensemble import AdaBoostClassifier, GradientBoostingClassifier\n",
    "from xgboost import XGBClassifier\n",
    "from sklearn.metrics import accuracy_score, precision_score, recall_score, f1_score\n",
    "\n",
    "# Function to transform categorical columns using one-hot encoding\n",
    "def transform_categorical_one_hot(X, categorical_cols):\n",
    "    ct = ColumnTransformer(\n",
    "        transformers=[('encoder', OneHotEncoder(), categorical_cols)],\n",
    "        remainder='passthrough'\n",
    "    )\n",
    "    return ct.fit_transform(X)\n",
    "\n",
    "classifiers = [\n",
    "    GaussianNB(),\n",
    "    KNeighborsClassifier(),\n",
    "    DecisionTreeClassifier(),\n",
    "    GaussianMixture(n_components=3),\n",
    "    LinearDiscriminantAnalysis(),\n",
    "    AdaBoostClassifier(n_estimators=1000),\n",
    "    GradientBoostingClassifier(n_estimators=1000),\n",
    "    SVC(kernel='rbf'),  # Support Vector Classifier\n",
    "    RandomForestClassifier(n_estimators=1000)  # Random Forest Classifier\n",
    "]\n",
    "\n",
    "classifier_names = [\n",
    "    \"Naive Bayes\",\n",
    "    \"K-Nearest Neighbors\",\n",
    "    \"Decision Tree\",\n",
    "    \"Gaussian Mixture\",\n",
    "    \"Linear Discriminant Analysis\",\n",
    "    \"AdaBoost\",\n",
    "    \"Gradient Boosting\",\n",
    "    \"Support Vector Machine\",\n",
    "    \"Random Forest\"\n",
    "]\n",
    "\n",
    "categorical_columns = [\"Razred\", \"Profesor\", \"Spol\"]  # Example categorical columns\n",
    "scoring = ['accuracy', 'precision_macro', 'recall_macro', 'f1_macro']\n",
    "\n",
    "# Create an empty DataFrame to store results\n",
    "results_df = pd.DataFrame(columns=['Classifier', 'Accuracy', 'Precision', 'Recall', 'F1-score'])\n",
    "\n",
    "# Training and evaluation loop with cross-validation\n",
    "for clf, name in zip(classifiers, classifier_names):\n",
    "    print(name)\n",
    "    # Apply transformations to handle categorical data using one-hot encoding\n",
    "    if categorical_columns:\n",
    "        X_transformed = transform_categorical_one_hot(X, categorical_columns)\n",
    "    else:\n",
    "        X_transformed = X\n",
    "    \n",
    "    scores = cross_validate(clf, X_transformed, y, scoring=scoring, cv=5)\n",
    "    accuracy = np.mean(scores['test_accuracy'])\n",
    "    precision = np.mean(scores['test_precision_macro'])\n",
    "    recall = np.mean(scores['test_recall_macro'])\n",
    "    f1 = np.mean(scores['test_f1_macro'])\n",
    "    \n",
    "    # Append results to DataFrame\n",
    "    results_df = results_df.append({\n",
    "        'Classifier': name,\n",
    "        'Accuracy': accuracy,\n",
    "        'Precision': precision,\n",
    "        'Recall': recall,\n",
    "        'F1-score': f1\n",
    "    }, ignore_index=True)\n",
    "\n",
    "# Display results DataFrame\n",
    "print(results_df)\n",
    "\n",
    "# Save results to a CSV file\n",
    "results_df.to_csv('classification_results.csv', index=False, float_format='%.3f')"
   ]
  },
  {
   "cell_type": "code",
   "execution_count": 22,
   "metadata": {},
   "outputs": [
    {
     "data": {
      "image/png": "[encoded data removed]",
      "text/plain": [
       "<Figure size 1500x1000 with 9 Axes>"
      ]
     },
     "metadata": {},
     "output_type": "display_data"
    }
   ],
   "source": [
    "from sklearn.metrics import confusion_matrix\n",
    "import seaborn as sns\n",
    "\n",
    "# ... (Previous code remains the same)\n",
    "\n",
    "# Confusion Matrix for each classifier\n",
    "plt.figure(figsize=(15, 10))\n",
    "#plt.suptitle('Confusion Matrix for Classifiers', y=0.94)\n",
    "for i, (clf, name) in enumerate(zip(classifiers, classifier_names)):\n",
    "    clf.fit(X_transformed, y)\n",
    "    y_pred = clf.predict(X_transformed)\n",
    "    cm = confusion_matrix(y, y_pred)\n",
    "    plt.subplot(3, 3, i + 1)\n",
    "    sns.heatmap(cm, annot=True, cmap='Blues', fmt='g', cbar=False)\n",
    "    plt.title(f'{name} - Confusion Matrix')\n",
    "    plt.xlabel('Predicted')\n",
    "    plt.ylabel('True')\n",
    "\n",
    "plt.tight_layout()\n",
    "plt.show()"
   ]
  },
  {
   "attachments": {},
   "cell_type": "markdown",
   "metadata": {},
   "source": [
    "### Grafi"
   ]
  },
  {
   "attachments": {},
   "cell_type": "markdown",
   "metadata": {},
   "source": [
    "Najprej moramo $X$ in $y$ dati v obliko, ki bo pythonu bolj vsec za cross validation"
   ]
  },
  {
   "cell_type": "code",
   "execution_count": 23,
   "metadata": {},
   "outputs": [],
   "source": [
    "X = pd.DataFrame(X).to_numpy()\n",
    "y = pd.DataFrame(y).to_numpy()"
   ]
  },
  {
   "cell_type": "code",
   "execution_count": 24,
   "metadata": {},
   "outputs": [],
   "source": [
    "from operator import add\n",
    "from functools import reduce\n",
    "\n",
    "y = [reduce(add, lst) for lst in y]\n",
    "y = np.array(y)"
   ]
  },
  {
   "cell_type": "code",
   "execution_count": 25,
   "metadata": {},
   "outputs": [
    {
     "name": "stderr",
     "output_type": "stream",
     "text": [
      "<>:1: DeprecationWarning: invalid escape sequence '\\p'\n",
      "<>:1: DeprecationWarning: invalid escape sequence '\\p'\n",
      "C:\\Users\\borbr\\AppData\\Local\\Temp\\ipykernel_3508\\2294744204.py:1: DeprecationWarning: invalid escape sequence '\\p'\n",
      "  \"\"\"import matplotlib.pyplot as plt\n"
     ]
    },
    {
     "data": {
      "text/plain": [
       "'import matplotlib.pyplot as plt\\nimport numpy as np\\n\\nfrom sklearn.datasets import make_classification\\nfrom sklearn.model_selection import KFold\\nfrom sklearn.linear_model import LogisticRegression\\nfrom sklearn.metrics import roc_curve\\n\\nkf = KFold(5,shuffle=False)\\n\\ntprs = []\\nbase_fpr = np.linspace(0, 1, 101)\\n\\nplt.figure(figsize=(5, 5))\\nplt.axes().set_aspect(\\'equal\\', \\'datalim\\')\\n\\nfor train, test in kf.split(X):\\n    model = LogisticRegression().fit(X[train], y[train])\\n    y_score = model.predict_proba(X[test])\\n    fpr, tpr, _ = roc_curve(y[test], y_score[:, 1])\\n    \\n    plt.plot(fpr, tpr, \\'b\\', alpha=0.15)\\n    tpr = np.interp(base_fpr, fpr, tpr)\\n    tpr[0] = 0.0\\n    tprs.append(tpr)\\n\\ntprs = np.array(tprs)\\nmean_tprs = tprs.mean(axis=0)\\nstd = tprs.std(axis=0)\\n\\ntprs_upper = np.minimum(mean_tprs + std, 1)\\ntprs_lower = mean_tprs - std\\n\\n\\nplt.plot(base_fpr, mean_tprs, \\'b\\', \\n         label=r\"LR ROC (AUC = %0.2f $\\\\pm$ %0.2f)\" % (cross_val_score(LogisticRegression(), X, y, scoring=\"roc_auc\", cv=5).mean(),\\n                                                          cross_val_score(LogisticRegression(), X, y, scoring=\"roc_auc\", cv=5).std()))\\nplt.fill_between(base_fpr, tprs_lower, tprs_upper, color=\\'grey\\', alpha=0.3, label=\"Interval 1 std\")\\n\\nplt.plot([0, 1], [0, 1],\\'r--\\', label=\"chance level (AUC = 0.5)\")\\nplt.xlim([-0.01, 1.01])\\nplt.ylim([-0.01, 1.01])\\nplt.ylabel(\\'True Positive Rate\\')\\nplt.xlabel(\\'False Positive Rate\\')\\nplt.legend(loc=\"lower right\")\\nplt.show()'"
      ]
     },
     "execution_count": 25,
     "metadata": {},
     "output_type": "execute_result"
    }
   ],
   "source": [
    "\"\"\"import matplotlib.pyplot as plt\n",
    "import numpy as np\n",
    "\n",
    "from sklearn.datasets import make_classification\n",
    "from sklearn.model_selection import KFold\n",
    "from sklearn.linear_model import LogisticRegression\n",
    "from sklearn.metrics import roc_curve\n",
    "\n",
    "kf = KFold(5,shuffle=False)\n",
    "\n",
    "tprs = []\n",
    "base_fpr = np.linspace(0, 1, 101)\n",
    "\n",
    "plt.figure(figsize=(5, 5))\n",
    "plt.axes().set_aspect('equal', 'datalim')\n",
    "\n",
    "for train, test in kf.split(X):\n",
    "    model = LogisticRegression().fit(X[train], y[train])\n",
    "    y_score = model.predict_proba(X[test])\n",
    "    fpr, tpr, _ = roc_curve(y[test], y_score[:, 1])\n",
    "    \n",
    "    plt.plot(fpr, tpr, 'b', alpha=0.15)\n",
    "    tpr = np.interp(base_fpr, fpr, tpr)\n",
    "    tpr[0] = 0.0\n",
    "    tprs.append(tpr)\n",
    "\n",
    "tprs = np.array(tprs)\n",
    "mean_tprs = tprs.mean(axis=0)\n",
    "std = tprs.std(axis=0)\n",
    "\n",
    "tprs_upper = np.minimum(mean_tprs + std, 1)\n",
    "tprs_lower = mean_tprs - std\n",
    "\n",
    "\n",
    "plt.plot(base_fpr, mean_tprs, 'b', \n",
    "         label=r\"LR ROC (AUC = %0.2f $\\pm$ %0.2f)\" % (cross_val_score(LogisticRegression(), X, y, scoring=\"roc_auc\", cv=5).mean(),\n",
    "                                                          cross_val_score(LogisticRegression(), X, y, scoring=\"roc_auc\", cv=5).std()))\n",
    "plt.fill_between(base_fpr, tprs_lower, tprs_upper, color='grey', alpha=0.3, label=\"Interval 1 std\")\n",
    "\n",
    "plt.plot([0, 1], [0, 1],'r--', label=\"chance level (AUC = 0.5)\")\n",
    "plt.xlim([-0.01, 1.01])\n",
    "plt.ylim([-0.01, 1.01])\n",
    "plt.ylabel('True Positive Rate')\n",
    "plt.xlabel('False Positive Rate')\n",
    "plt.legend(loc=\"lower right\")\n",
    "plt.show()\"\"\""
   ]
  },
  {
   "cell_type": "code",
   "execution_count": 26,
   "metadata": {},
   "outputs": [
    {
     "name": "stderr",
     "output_type": "stream",
     "text": [
      "<>:1: DeprecationWarning: invalid escape sequence '\\p'\n",
      "<>:1: DeprecationWarning: invalid escape sequence '\\p'\n",
      "C:\\Users\\borbr\\AppData\\Local\\Temp\\ipykernel_3508\\1274876474.py:1: DeprecationWarning: invalid escape sequence '\\p'\n",
      "  \"\"\"import matplotlib.pyplot as plt\n"
     ]
    },
    {
     "data": {
      "text/plain": [
       "'import matplotlib.pyplot as plt\\nimport numpy as np\\n\\nfrom sklearn.datasets import make_classification\\nfrom sklearn.model_selection import KFold\\nfrom sklearn.linear_model import LogisticRegression\\nfrom sklearn.metrics import roc_curve\\n\\n\\nkf = KFold(5,shuffle=False)\\n\\ntprs = []\\nbase_fpr = np.linspace(0, 1, 101)\\n\\nplt.figure(figsize=(5, 5))\\nplt.axes().set_aspect(\\'equal\\', \\'datalim\\')\\n\\nfor train, test in kf.split(X):\\n    model = SVC(probability=True).fit(X[train], y[train])\\n    y_score = model.predict_proba(X[test])\\n    fpr, tpr, _ = roc_curve(y[test], y_score[:, 1])\\n    \\n    plt.plot(fpr, tpr, \\'b\\', alpha=0.15)\\n    tpr = np.interp(base_fpr, fpr, tpr)\\n    tpr[0] = 0.0\\n    tprs.append(tpr)\\n\\ntprs = np.array(tprs)\\nmean_tprs = tprs.mean(axis=0)\\nstd = tprs.std(axis=0)\\n\\ntprs_upper = np.minimum(mean_tprs + std, 1)\\ntprs_lower = mean_tprs - std\\n\\n\\nplt.plot(base_fpr, mean_tprs, \\'b\\', \\n         label=r\"SVC ROC (AUC = %0.2f $\\\\pm$ %0.2f)\" % (cross_val_score(SVC(), X, y, scoring=\"roc_auc\", cv=5).mean(),\\n                                                          cross_val_score(SVC(), X, y, scoring=\"roc_auc\", cv=5).std()))\\nplt.fill_between(base_fpr, tprs_lower, tprs_upper, color=\\'grey\\', alpha=0.3, label=\"Interval 1 std\")\\n\\nplt.plot([0, 1], [0, 1],\\'r--\\', label=\"chance level (AUC = 0.5)\")\\nplt.xlim([-0.01, 1.01])\\nplt.ylim([-0.01, 1.01])\\nplt.ylabel(\\'True Positive Rate\\')\\nplt.xlabel(\\'False Positive Rate\\')\\nplt.legend(loc=\"lower right\")\\nplt.show()'"
      ]
     },
     "execution_count": 26,
     "metadata": {},
     "output_type": "execute_result"
    }
   ],
   "source": [
    "\"\"\"import matplotlib.pyplot as plt\n",
    "import numpy as np\n",
    "\n",
    "from sklearn.datasets import make_classification\n",
    "from sklearn.model_selection import KFold\n",
    "from sklearn.linear_model import LogisticRegression\n",
    "from sklearn.metrics import roc_curve\n",
    "\n",
    "\n",
    "kf = KFold(5,shuffle=False)\n",
    "\n",
    "tprs = []\n",
    "base_fpr = np.linspace(0, 1, 101)\n",
    "\n",
    "plt.figure(figsize=(5, 5))\n",
    "plt.axes().set_aspect('equal', 'datalim')\n",
    "\n",
    "for train, test in kf.split(X):\n",
    "    model = SVC(probability=True).fit(X[train], y[train])\n",
    "    y_score = model.predict_proba(X[test])\n",
    "    fpr, tpr, _ = roc_curve(y[test], y_score[:, 1])\n",
    "    \n",
    "    plt.plot(fpr, tpr, 'b', alpha=0.15)\n",
    "    tpr = np.interp(base_fpr, fpr, tpr)\n",
    "    tpr[0] = 0.0\n",
    "    tprs.append(tpr)\n",
    "\n",
    "tprs = np.array(tprs)\n",
    "mean_tprs = tprs.mean(axis=0)\n",
    "std = tprs.std(axis=0)\n",
    "\n",
    "tprs_upper = np.minimum(mean_tprs + std, 1)\n",
    "tprs_lower = mean_tprs - std\n",
    "\n",
    "\n",
    "plt.plot(base_fpr, mean_tprs, 'b', \n",
    "         label=r\"SVC ROC (AUC = %0.2f $\\pm$ %0.2f)\" % (cross_val_score(SVC(), X, y, scoring=\"roc_auc\", cv=5).mean(),\n",
    "                                                          cross_val_score(SVC(), X, y, scoring=\"roc_auc\", cv=5).std()))\n",
    "plt.fill_between(base_fpr, tprs_lower, tprs_upper, color='grey', alpha=0.3, label=\"Interval 1 std\")\n",
    "\n",
    "plt.plot([0, 1], [0, 1],'r--', label=\"chance level (AUC = 0.5)\")\n",
    "plt.xlim([-0.01, 1.01])\n",
    "plt.ylim([-0.01, 1.01])\n",
    "plt.ylabel('True Positive Rate')\n",
    "plt.xlabel('False Positive Rate')\n",
    "plt.legend(loc=\"lower right\")\n",
    "plt.show()\"\"\""
   ]
  }
 ],
 "metadata": {
  "kernelspec": {
   "display_name": "Python 3",
   "language": "python",
   "name": "python3"
  },
  "language_info": {
   "codemirror_mode": {
    "name": "ipython",
    "version": 3
   },
   "file_extension": ".py",
   "mimetype": "text/x-python",
   "name": "python",
   "nbconvert_exporter": "python",
   "pygments_lexer": "ipython3",
   "version": "3.11.4"
  },
  "orig_nbformat": 4
 },
 "nbformat": 4,
 "nbformat_minor": 2
}
