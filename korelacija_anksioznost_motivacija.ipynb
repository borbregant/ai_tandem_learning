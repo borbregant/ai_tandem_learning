{
 "cells": [
  {
   "attachments": {},
   "cell_type": "markdown",
   "metadata": {},
   "source": [
    "# Analiza podatkov"
   ]
  },
  {
   "cell_type": "code",
   "execution_count": 3,
   "metadata": {},
   "outputs": [],
   "source": [
    "import pandas as pd\n",
    "import numpy as np\n",
    "from matplotlib import pyplot as plt\n",
    "\n",
    "df = pd.read_excel(\"data_cleaned.xlsx\")\n",
    "#df = df.drop(df.columns[5], axis=1)# to je zelo slaba koda\n",
    "df = df.drop('Unnamed: 0', axis=1)"
   ]
  },
  {
   "cell_type": "code",
   "execution_count": 5,
   "metadata": {},
   "outputs": [],
   "source": [
    "#df = df.apply(pd.to_numeric, errors='coerce')"
   ]
  },
  {
   "cell_type": "code",
   "execution_count": 4,
   "metadata": {},
   "outputs": [
    {
     "data": {
      "text/html": [
       "<div>\n",
       "<style scoped>\n",
       "    .dataframe tbody tr th:only-of-type {\n",
       "        vertical-align: middle;\n",
       "    }\n",
       "\n",
       "    .dataframe tbody tr th {\n",
       "        vertical-align: top;\n",
       "    }\n",
       "\n",
       "    .dataframe thead th {\n",
       "        text-align: right;\n",
       "    }\n",
       "</style>\n",
       "<table border=\"1\" class=\"dataframe\">\n",
       "  <thead>\n",
       "    <tr style=\"text-align: right;\">\n",
       "      <th></th>\n",
       "      <th>Uspesnost</th>\n",
       "      <th>Ocena</th>\n",
       "      <th>Interakcija_kvantitativno</th>\n",
       "      <th>Interakcija_kvalitativno</th>\n",
       "      <th>Outperforming_partner</th>\n",
       "      <th>Razred</th>\n",
       "      <th>Profesor</th>\n",
       "      <th>Spol</th>\n",
       "      <th>Motivacija</th>\n",
       "      <th>Anksioznost</th>\n",
       "      <th>Introvertiranost</th>\n",
       "      <th>Sensing</th>\n",
       "      <th>Feeling</th>\n",
       "      <th>Judging</th>\n",
       "    </tr>\n",
       "  </thead>\n",
       "  <tbody>\n",
       "    <tr>\n",
       "      <th>0</th>\n",
       "      <td>3</td>\n",
       "      <td>4</td>\n",
       "      <td>3</td>\n",
       "      <td>2</td>\n",
       "      <td>3</td>\n",
       "      <td>0</td>\n",
       "      <td>0</td>\n",
       "      <td>0</td>\n",
       "      <td>21</td>\n",
       "      <td>27</td>\n",
       "      <td>26</td>\n",
       "      <td>25</td>\n",
       "      <td>21</td>\n",
       "      <td>23</td>\n",
       "    </tr>\n",
       "    <tr>\n",
       "      <th>1</th>\n",
       "      <td>2</td>\n",
       "      <td>1</td>\n",
       "      <td>1</td>\n",
       "      <td>2</td>\n",
       "      <td>2</td>\n",
       "      <td>1</td>\n",
       "      <td>2</td>\n",
       "      <td>0</td>\n",
       "      <td>21</td>\n",
       "      <td>29</td>\n",
       "      <td>28</td>\n",
       "      <td>26</td>\n",
       "      <td>24</td>\n",
       "      <td>25</td>\n",
       "    </tr>\n",
       "    <tr>\n",
       "      <th>2</th>\n",
       "      <td>3</td>\n",
       "      <td>5</td>\n",
       "      <td>3</td>\n",
       "      <td>3</td>\n",
       "      <td>3</td>\n",
       "      <td>2</td>\n",
       "      <td>1</td>\n",
       "      <td>0</td>\n",
       "      <td>35</td>\n",
       "      <td>9</td>\n",
       "      <td>23</td>\n",
       "      <td>27</td>\n",
       "      <td>23</td>\n",
       "      <td>20</td>\n",
       "    </tr>\n",
       "  </tbody>\n",
       "</table>\n",
       "</div>"
      ],
      "text/plain": [
       "   Uspesnost  Ocena  Interakcija_kvantitativno  Interakcija_kvalitativno  \\\n",
       "0          3      4                          3                         2   \n",
       "1          2      1                          1                         2   \n",
       "2          3      5                          3                         3   \n",
       "\n",
       "   Outperforming_partner  Razred  Profesor  Spol  Motivacija  Anksioznost  \\\n",
       "0                      3       0         0     0          21           27   \n",
       "1                      2       1         2     0          21           29   \n",
       "2                      3       2         1     0          35            9   \n",
       "\n",
       "   Introvertiranost  Sensing  Feeling  Judging  \n",
       "0                26       25       21       23  \n",
       "1                28       26       24       25  \n",
       "2                23       27       23       20  "
      ]
     },
     "execution_count": 4,
     "metadata": {},
     "output_type": "execute_result"
    }
   ],
   "source": [
    "df.head()"
   ]
  },
  {
   "cell_type": "code",
   "execution_count": 8,
   "metadata": {},
   "outputs": [
    {
     "data": {
      "image/png": "[encoded data removed]",
      "text/plain": [
       "<Figure size 640x480 with 1 Axes>"
      ]
     },
     "metadata": {},
     "output_type": "display_data"
    }
   ],
   "source": [
    "from matplotlib import pyplot\n",
    "pyplot.scatter(df[\"Motivacija\"], df[\"Anksioznost\"])\n",
    "pyplot.show()"
   ]
  },
  {
   "cell_type": "code",
   "execution_count": 11,
   "metadata": {},
   "outputs": [
    {
     "name": "stdout",
     "output_type": "stream",
     "text": [
      "[[ 65.33333333 -88.66666667]\n",
      " [-88.66666667 121.33333333]]\n"
     ]
    }
   ],
   "source": [
    "from numpy import cov\n",
    "covariance = cov(df[\"Motivacija\"], df[\"Anksioznost\"])\n",
    "print(covariance)"
   ]
  },
  {
   "cell_type": "code",
   "execution_count": 5,
   "metadata": {},
   "outputs": [],
   "source": [
    "from numpy.random import seed\n",
    "from scipy.stats import pearsonr\n",
    "seed(42)"
   ]
  },
  {
   "cell_type": "code",
   "execution_count": 6,
   "metadata": {},
   "outputs": [
    {
     "name": "stdout",
     "output_type": "stream",
     "text": [
      "Pearsons correlation: -0.996\n"
     ]
    }
   ],
   "source": [
    "corr, _ = pearsonr(df[\"Motivacija\"], df[\"Anksioznost\"])\n",
    "print('Pearsons correlation: %.3f' % corr)"
   ]
  },
  {
   "cell_type": "code",
   "execution_count": 9,
   "metadata": {},
   "outputs": [
    {
     "name": "stdout",
     "output_type": "stream",
     "text": [
      "Spearmans correlation: -0.866\n"
     ]
    }
   ],
   "source": [
    "from scipy.stats import spearmanr\n",
    "corr, _ = spearmanr(df[\"Motivacija\"], df[\"Anksioznost\"])\n",
    "print('Spearmans correlation: %.3f' % corr)"
   ]
  },
  {
   "cell_type": "markdown",
   "metadata": {},
   "source": [
    "Test linearnosti"
   ]
  },
  {
   "cell_type": "code",
   "execution_count": 17,
   "metadata": {},
   "outputs": [
    {
     "name": "stdout",
     "output_type": "stream",
     "text": [
      "                            OLS Regression Results                            \n",
      "==============================================================================\n",
      "Dep. Variable:             Motivacija   R-squared:                       0.992\n",
      "Model:                            OLS   Adj. R-squared:                  0.984\n",
      "Method:                 Least Squares   F-statistic:                     120.3\n",
      "Date:                Thu, 23 Nov 2023   Prob (F-statistic):             0.0579\n",
      "Time:                        12:36:36   Log-Likelihood:                -2.7201\n",
      "No. Observations:                   3   AIC:                             9.440\n",
      "Df Residuals:                       1   BIC:                             7.637\n",
      "Df Model:                           1                                         \n",
      "Covariance Type:            nonrobust                                         \n",
      "===============================================================================\n",
      "                  coef    std err          t      P>|t|      [0.025      0.975]\n",
      "-------------------------------------------------------------------------------\n",
      "Intercept      41.5000      1.563     26.555      0.024      21.643      61.357\n",
      "Anksioznost    -0.7308      0.067    -10.970      0.058      -1.577       0.116\n",
      "==============================================================================\n",
      "Omnibus:                          nan   Durbin-Watson:                   2.335\n",
      "Prob(Omnibus):                    nan   Jarque-Bera (JB):                0.299\n",
      "Skew:                          -0.190   Prob(JB):                        0.861\n",
      "Kurtosis:                       1.500   Cond. No.                         61.3\n",
      "==============================================================================\n",
      "\n",
      "Notes:\n",
      "[1] Standard Errors assume that the covariance matrix of the errors is correctly specified.\n"
     ]
    },
    {
     "name": "stderr",
     "output_type": "stream",
     "text": [
      "c:\\Users\\borbr\\AppData\\Local\\Programs\\Python\\Python311\\Lib\\site-packages\\statsmodels\\stats\\stattools.py:74: ValueWarning: omni_normtest is not valid with less than 8 observations; 3 samples were given.\n",
      "  warn(\"omni_normtest is not valid with less than 8 observations; %i \"\n"
     ]
    }
   ],
   "source": [
    "import statsmodels.formula.api as smf\n",
    "\n",
    "fit = smf.ols('Motivacija ~ Anksioznost', data=df).fit()\n",
    "print(fit.summary())"
   ]
  },
  {
   "cell_type": "code",
   "execution_count": 21,
   "metadata": {},
   "outputs": [
    {
     "data": {
      "text/plain": [
       "[('Lagrange multiplier statistic', 2.78233636910114),\n",
       " ('p-value', 0.09530904038713194),\n",
       " ('f-value', 12.782734339270398),\n",
       " ('f p-value', 0.17362397009521657)]"
      ]
     },
     "execution_count": 21,
     "metadata": {},
     "output_type": "execute_result"
    }
   ],
   "source": [
    "import statsmodels.formula.api as smf\n",
    "from statsmodels.compat import lzip\n",
    "import statsmodels.stats.api as sms\n",
    "names = ['Lagrange multiplier statistic', 'p-value',\n",
    "         'f-value', 'f p-value']\n",
    " \n",
    "# Get the test result\n",
    "test_result = sms.het_breuschpagan(fit.resid, fit.model.exog)\n",
    " \n",
    "lzip(names, test_result)"
   ]
  }
 ],
 "metadata": {
  "kernelspec": {
   "display_name": "Python 3",
   "language": "python",
   "name": "python3"
  },
  "language_info": {
   "codemirror_mode": {
    "name": "ipython",
    "version": 3
   },
   "file_extension": ".py",
   "mimetype": "text/x-python",
   "name": "python",
   "nbconvert_exporter": "python",
   "pygments_lexer": "ipython3",
   "version": "3.11.4"
  },
  "orig_nbformat": 4
 },
 "nbformat": 4,
 "nbformat_minor": 2
}
