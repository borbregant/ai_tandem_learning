{
 "cells": [
  {
   "cell_type": "code",
   "execution_count": 1,
   "metadata": {},
   "outputs": [],
   "source": [
    "import pandas as pd\n",
    "import numpy as np\n",
    "from matplotlib import pyplot as plt\n",
    "\n",
    "df = pd.read_csv(\"data_dijaki.csv\")\n",
    "# par dijakov ne ve v kerm razredu so...\n",
    "df.loc[df['Uporabniško ime'] == \"matija.plesko@stanislav.si\", 'Razred'] = \"3. č\"\n",
    "df.loc[df['Uporabniško ime'] == \"aleks.jersic@stanislav.si\", 'Razred'] = \"3. č\"\n",
    "df.loc[df['Uporabniško ime'] == \"pannaveronika.horvath@stanislav.si\", 'Razred'] = \"3. a\"\n",
    "df.loc[df['Uporabniško ime'] == \"anze.rifel@stanislav.si\", 'Razred'] = \"3. d\"\n",
    "\n",
    "df.drop(\"Časovni žig\", axis=1, inplace=True)\n",
    "df.drop(\"Uporabniško ime\", axis=1, inplace=True)\n",
    "df.reset_index(drop=True, inplace=True)"
   ]
  },
  {
   "cell_type": "code",
   "execution_count": 4,
   "metadata": {},
   "outputs": [
    {
     "data": {
      "text/plain": [
       "array(['2. b', '3. č', '3. c', '3. a', '2. e', '3. d', '2. č'],\n",
       "      dtype=object)"
      ]
     },
     "execution_count": 4,
     "metadata": {},
     "output_type": "execute_result"
    }
   ],
   "source": [
    "df[\"Razred\"].unique()"
   ]
  },
  {
   "cell_type": "code",
   "execution_count": 6,
   "metadata": {},
   "outputs": [
    {
     "name": "stdout",
     "output_type": "stream",
     "text": [
      "Razred\n",
      "2. b    9\n",
      "2. e    4\n",
      "2. č    3\n",
      "dtype: int64\n",
      "Razred\n",
      "2. b    12\n",
      "2. e     8\n",
      "2. č     8\n",
      "dtype: int64\n"
     ]
    }
   ],
   "source": [
    "# Filter the DataFrame based on specific values in Razred column\n",
    "filtered_data = df[df['Razred'].isin(['2. b', '2. e', '2. č'])]\n",
    "\n",
    "# Group the filtered data by Razred and count occurrences of Moški in Spol column\n",
    "gender_counts = filtered_data[filtered_data['Spol'] == 'Moški'].groupby('Razred').size()\n",
    "\n",
    "print(gender_counts)\n",
    "\n",
    "# Filter the DataFrame based on specific values in Razred column\n",
    "filtered_data = df[df['Razred'].isin(['2. b', '2. e', '2. č'])]\n",
    "\n",
    "# Group the filtered data by Razred and count occurrences of Moški in Spol column\n",
    "gender_counts = filtered_data[filtered_data['Spol'] == 'Ženska'].groupby('Razred').size()\n",
    "\n",
    "print(gender_counts)\n"
   ]
  },
  {
   "cell_type": "code",
   "execution_count": 8,
   "metadata": {},
   "outputs": [
    {
     "name": "stdout",
     "output_type": "stream",
     "text": [
      "Razred\n",
      "3. a    2\n",
      "3. c    1\n",
      "3. d    2\n",
      "3. č    7\n",
      "dtype: int64\n",
      "Razred\n",
      "3. a    12\n",
      "3. c    10\n",
      "3. d     5\n",
      "3. č     6\n",
      "dtype: int64\n"
     ]
    }
   ],
   "source": [
    "# Filter the DataFrame based on specific values in Razred column\n",
    "filtered_data = df[df['Razred'].isin(['3. a', '3. c', '3. č', '3. d'])]\n",
    "\n",
    "# Group the filtered data by Razred and count occurrences of Moški in Spol column\n",
    "gender_counts = filtered_data[filtered_data['Spol'] == 'Moški'].groupby('Razred').size()\n",
    "\n",
    "print(gender_counts)\n",
    "\n",
    "# Filter the DataFrame based on specific values in Razred column\n",
    "filtered_data = df[df['Razred'].isin(['3. a', '3. c', '3. č', '3. d'])]\n",
    "\n",
    "# Group the filtered data by Razred and count occurrences of Moški in Spol column\n",
    "gender_counts = filtered_data[filtered_data['Spol'] == 'Ženska'].groupby('Razred').size()\n",
    "\n",
    "print(gender_counts)\n"
   ]
  }
 ],
 "metadata": {
  "kernelspec": {
   "display_name": "Python 3",
   "language": "python",
   "name": "python3"
  },
  "language_info": {
   "codemirror_mode": {
    "name": "ipython",
    "version": 3
   },
   "file_extension": ".py",
   "mimetype": "text/x-python",
   "name": "python",
   "nbconvert_exporter": "python",
   "pygments_lexer": "ipython3",
   "version": "3.11.4"
  }
 },
 "nbformat": 4,
 "nbformat_minor": 2
}
