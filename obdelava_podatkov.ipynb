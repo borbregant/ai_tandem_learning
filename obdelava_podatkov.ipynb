{
 "cells": [
  {
   "attachments": {},
   "cell_type": "markdown",
   "metadata": {},
   "source": [
    "# Priprava podatkov"
   ]
  },
  {
   "cell_type": "code",
   "execution_count": 110,
   "metadata": {},
   "outputs": [],
   "source": [
    "import numpy as np\n",
    "import pandas as pd"
   ]
  },
  {
   "attachments": {},
   "cell_type": "markdown",
   "metadata": {},
   "source": [
    "Preberemo datoteko"
   ]
  },
  {
   "cell_type": "code",
   "execution_count": 111,
   "metadata": {},
   "outputs": [],
   "source": [
    "df = pd.read_csv(\"data_dijaki.csv\")"
   ]
  },
  {
   "cell_type": "code",
   "execution_count": 112,
   "metadata": {},
   "outputs": [
    {
     "data": {
      "text/html": [
       "<div>\n",
       "<style scoped>\n",
       "    .dataframe tbody tr th:only-of-type {\n",
       "        vertical-align: middle;\n",
       "    }\n",
       "\n",
       "    .dataframe tbody tr th {\n",
       "        vertical-align: top;\n",
       "    }\n",
       "\n",
       "    .dataframe thead th {\n",
       "        text-align: right;\n",
       "    }\n",
       "</style>\n",
       "<table border=\"1\" class=\"dataframe\">\n",
       "  <thead>\n",
       "    <tr style=\"text-align: right;\">\n",
       "      <th></th>\n",
       "      <th>Časovni žig</th>\n",
       "      <th>Uporabniško ime</th>\n",
       "      <th>Se ti je metoda (delo v skupini) zdela na sploh uspešna? Upoštevaj tako vidik napredovanja pri matematiki, kot popestritve pouka.</th>\n",
       "      <th>V moji izobraževalni poti želim imeti čim več matematike</th>\n",
       "      <th>Na fakulteti bi se rad izognil matematiki</th>\n",
       "      <th>Težavnost matematike me privlači</th>\n",
       "      <th>Učenje (napredne) matematike smatram za uporabno</th>\n",
       "      <th>Deljenje idej za reševanje matematičnega problema mi je v coni udobja</th>\n",
       "      <th>Rad imam matematiko</th>\n",
       "      <th>Matematika je dolgočasna</th>\n",
       "      <th>...</th>\n",
       "      <th>Unnamed: 49</th>\n",
       "      <th>Unnamed: 50</th>\n",
       "      <th>Lanska zaključna ocena pri matematiki</th>\n",
       "      <th>Razred</th>\n",
       "      <th>Spol</th>\n",
       "      <th>Učeči profesor</th>\n",
       "      <th>Oceni, koliko je bilo v povprečju v tandemu interakcije</th>\n",
       "      <th>Oceni, kako produktivna je bila interakcija</th>\n",
       "      <th>Si pripomogel več kot tvoj partner v tandemu?</th>\n",
       "      <th>Unnamed: 58</th>\n",
       "    </tr>\n",
       "  </thead>\n",
       "  <tbody>\n",
       "    <tr>\n",
       "      <th>0</th>\n",
       "      <td>2023/11/08 5:52:17 pop. GMT+1</td>\n",
       "      <td>bor.bregant@gmail.com</td>\n",
       "      <td>3</td>\n",
       "      <td>3</td>\n",
       "      <td>3</td>\n",
       "      <td>3</td>\n",
       "      <td>3</td>\n",
       "      <td>3</td>\n",
       "      <td>3</td>\n",
       "      <td>3</td>\n",
       "      <td>...</td>\n",
       "      <td>4</td>\n",
       "      <td>2</td>\n",
       "      <td>4</td>\n",
       "      <td>2. c</td>\n",
       "      <td>Moški</td>\n",
       "      <td>Andreja Jelovčan</td>\n",
       "      <td>3</td>\n",
       "      <td>2</td>\n",
       "      <td>3</td>\n",
       "      <td>3</td>\n",
       "    </tr>\n",
       "    <tr>\n",
       "      <th>1</th>\n",
       "      <td>2023/11/08 6:38:53 pop. GMT+1</td>\n",
       "      <td>larisa.rutar@stanislav.si</td>\n",
       "      <td>2</td>\n",
       "      <td>2</td>\n",
       "      <td>5</td>\n",
       "      <td>2</td>\n",
       "      <td>4</td>\n",
       "      <td>5</td>\n",
       "      <td>3</td>\n",
       "      <td>2</td>\n",
       "      <td>...</td>\n",
       "      <td>2</td>\n",
       "      <td>5</td>\n",
       "      <td>1</td>\n",
       "      <td>3. d</td>\n",
       "      <td>Moški</td>\n",
       "      <td>Pavle Šijanec</td>\n",
       "      <td>1</td>\n",
       "      <td>2</td>\n",
       "      <td>2</td>\n",
       "      <td>1</td>\n",
       "    </tr>\n",
       "  </tbody>\n",
       "</table>\n",
       "<p>2 rows × 59 columns</p>\n",
       "</div>"
      ],
      "text/plain": [
       "                     Časovni žig            Uporabniško ime  \\\n",
       "0  2023/11/08 5:52:17 pop. GMT+1      bor.bregant@gmail.com   \n",
       "1  2023/11/08 6:38:53 pop. GMT+1  larisa.rutar@stanislav.si   \n",
       "\n",
       "   Se ti je metoda (delo v skupini) zdela na sploh uspešna? Upoštevaj tako vidik napredovanja pri matematiki, kot popestritve pouka.  \\\n",
       "0                                                  3                                                                                   \n",
       "1                                                  2                                                                                   \n",
       "\n",
       "   V moji izobraževalni poti želim imeti čim več matematike  \\\n",
       "0                                                  3          \n",
       "1                                                  2          \n",
       "\n",
       "   Na fakulteti bi se rad izognil matematiki  \\\n",
       "0                                          3   \n",
       "1                                          5   \n",
       "\n",
       "   Težavnost matematike me privlači  \\\n",
       "0                                 3   \n",
       "1                                 2   \n",
       "\n",
       "   Učenje (napredne) matematike smatram za uporabno  \\\n",
       "0                                                 3   \n",
       "1                                                 4   \n",
       "\n",
       "   Deljenje idej za reševanje matematičnega problema mi je v coni udobja  \\\n",
       "0                                                  3                       \n",
       "1                                                  5                       \n",
       "\n",
       "   Rad imam matematiko  Matematika je dolgočasna  ...  Unnamed: 49  \\\n",
       "0                    3                         3  ...            4   \n",
       "1                    3                         2  ...            2   \n",
       "\n",
       "   Unnamed: 50  Lanska zaključna ocena pri matematiki  Razred   Spol  \\\n",
       "0            2                                      4    2. c  Moški   \n",
       "1            5                                      1    3. d  Moški   \n",
       "\n",
       "     Učeči profesor  Oceni, koliko je bilo v povprečju v tandemu interakcije  \\\n",
       "0  Andreja Jelovčan                                                  3         \n",
       "1     Pavle Šijanec                                                  1         \n",
       "\n",
       "   Oceni, kako produktivna je bila interakcija  \\\n",
       "0                                            2   \n",
       "1                                            2   \n",
       "\n",
       "   Si pripomogel več kot tvoj partner v tandemu?  Unnamed: 58  \n",
       "0                                              3            3  \n",
       "1                                              2            1  \n",
       "\n",
       "[2 rows x 59 columns]"
      ]
     },
     "execution_count": 112,
     "metadata": {},
     "output_type": "execute_result"
    }
   ],
   "source": [
    "df.head()"
   ]
  },
  {
   "cell_type": "code",
   "execution_count": 113,
   "metadata": {},
   "outputs": [],
   "source": [
    "df.drop(\"Časovni žig\", axis=1, inplace=True)\n",
    "df.drop(\"Uporabniško ime\", axis=1, inplace=True)\n",
    "df.reset_index(drop=True, inplace=True)"
   ]
  },
  {
   "cell_type": "code",
   "execution_count": 114,
   "metadata": {},
   "outputs": [],
   "source": [
    "#df.columns = [\"uspesnost\",\"uspesnost_ocena\",\"uspesnost_popestritev\",\"kviz_1\",\"ocena\",\"razred\",\"spol\",\"profesor\",\"interakcija_kvantitativno\",\"interakcija_kvalitativno\",\"pripomogel_vec\",\"prisotnost_ucitelja\"]"
   ]
  },
  {
   "attachments": {},
   "cell_type": "markdown",
   "metadata": {},
   "source": [
    "Kategoricne damo v 0 1"
   ]
  },
  {
   "cell_type": "code",
   "execution_count": 115,
   "metadata": {},
   "outputs": [],
   "source": [
    "from sklearn.preprocessing import LabelEncoder\n",
    " \n",
    "# Creating a instance of label Encoder.\n",
    "le = LabelEncoder()\n",
    " \n",
    "# Using .fit_transform function to fit label\n",
    "# encoder and return encoded label\n",
    "label = le.fit_transform(df['Razred'])\n",
    " \n",
    "df.drop(\"Razred\", axis=1, inplace=True)\n",
    " \n",
    "# Appending the array to our dataFrame\n",
    "# with column name 'Purchased'\n",
    "df[\"Razred\"] = label"
   ]
  },
  {
   "cell_type": "code",
   "execution_count": 116,
   "metadata": {},
   "outputs": [],
   "source": [
    "label = le.fit_transform(df['Učeči profesor'])\n",
    " \n",
    "df.drop(\"Učeči profesor\", axis=1, inplace=True)\n",
    " \n",
    "# Appending the array to our dataFrame\n",
    "# with column name 'Purchased'\n",
    "df[\"Profesor\"] = label"
   ]
  },
  {
   "cell_type": "code",
   "execution_count": 117,
   "metadata": {},
   "outputs": [],
   "source": [
    "label = le.fit_transform(df['Spol'])\n",
    " \n",
    "df.drop(\"Spol\", axis=1, inplace=True)\n",
    " \n",
    "# Appending the array to our dataFrame\n",
    "# with column name 'Purchased'\n",
    "df[\"Spol\"] = label"
   ]
  },
  {
   "cell_type": "code",
   "execution_count": 118,
   "metadata": {},
   "outputs": [],
   "source": [
    "df = df.apply(pd.to_numeric)"
   ]
  },
  {
   "cell_type": "code",
   "execution_count": 119,
   "metadata": {},
   "outputs": [
    {
     "name": "stdout",
     "output_type": "stream",
     "text": [
      "Se ti je metoda (delo v skupini) zdela na sploh uspešna? Upoštevaj tako vidik napredovanja pri matematiki, kot popestritve pouka.\n",
      "V moji izobraževalni poti želim imeti čim več matematike\n",
      "Na fakulteti bi se rad izognil matematiki\n",
      "Težavnost matematike me privlači\n",
      "Učenje (napredne) matematike smatram za uporabno\n",
      "Deljenje idej za reševanje matematičnega problema mi je v coni udobja\n",
      "Rad imam matematiko\n",
      "Matematika je dolgočasna\n",
      "Uporaba in iskanje formul ter tabel na zadnji strani poglavja v učbeniku\n",
      "Razmišljanje o testu matematike dan prej\n",
      "Gledanje profesorja, ki na tablo rešuje enačbo\n",
      "Test matematike\n",
      "Domače naloge pri matematiki\n",
      "Poslušanje ure matematike v razredu\n",
      "Poslušanje sošolca, ki razlaga snov pri matematiki\n",
      "Pisanje kratkega nenapovedanega preverjanja pri matematiki\n",
      "Začetek nove snovi pri pouku matematike\n",
      "Ko se učim:\n",
      "Sem:\n",
      "Unnamed: 21\n",
      "Unnamed: 22\n",
      "Unnamed: 23\n",
      "Unnamed: 24\n",
      "Unnamed: 25\n",
      "Unnamed: 26\n",
      "Unnamed: 27\n",
      "Unnamed: 28\n",
      "Unnamed: 29\n",
      "Unnamed: 30\n",
      "Unnamed: 31\n",
      "Unnamed: 32\n",
      "Unnamed: 33\n",
      "Unnamed: 34\n",
      "Unnamed: 35\n",
      "Unnamed: 36\n",
      "Unnamed: 37\n",
      "Unnamed: 38\n",
      "Unnamed: 39\n",
      "Unnamed: 40\n",
      "Unnamed: 41\n",
      "Unnamed: 42\n",
      "Unnamed: 43\n",
      "Unnamed: 44\n",
      "Unnamed: 45\n",
      "Unnamed: 46\n",
      "Unnamed: 47\n",
      "Unnamed: 48\n",
      "Unnamed: 49\n",
      "Unnamed: 50\n",
      "Lanska zaključna ocena pri matematiki\n",
      "Oceni, koliko je bilo v povprečju v tandemu interakcije\n",
      "Oceni, kako produktivna je bila interakcija\n",
      "Si pripomogel več kot tvoj partner v tandemu?\n",
      "Unnamed: 58\n",
      "Razred\n",
      "Profesor\n",
      "Spol\n"
     ]
    }
   ],
   "source": [
    "for col in df.columns:\n",
    "    print(col)"
   ]
  },
  {
   "cell_type": "markdown",
   "metadata": {},
   "source": [
    "Kalkulacija motivacije, anksioznosti in MBTI"
   ]
  },
  {
   "cell_type": "code",
   "execution_count": 120,
   "metadata": {},
   "outputs": [],
   "source": [
    "####### SPREMENI.. TA NE GRE 9- AMPAK -5- .... NISO MINUSI AMPAK INVERZ\n",
    "\n",
    "df['Motivacija'] = df['V moji izobraževalni poti želim imeti čim več matematike'] - df['Na fakulteti bi se rad izognil matematiki'] + df['Težavnost matematike me privlači'] + df['Učenje (napredne) matematike smatram za uporabno'] + df[\"Deljenje idej za reševanje matematičnega problema mi je v coni udobja\"] +df[\"Rad imam matematiko\"] - df[\"Matematika je dolgočasna\"]\n",
    "\n",
    "\n",
    "# Delete the original columns\n",
    "df.drop(['V moji izobraževalni poti želim imeti čim več matematike', 'Na fakulteti bi se rad izognil matematiki', 'Težavnost matematike me privlači', 'Učenje (napredne) matematike smatram za uporabno', \"Deljenje idej za reševanje matematičnega problema mi je v coni udobja\", \"Rad imam matematiko\", \"Matematika je dolgočasna\"], axis=1, inplace=True)"
   ]
  },
  {
   "cell_type": "code",
   "execution_count": 121,
   "metadata": {},
   "outputs": [],
   "source": [
    "df['Anksioznost'] = df['Uporaba in iskanje formul ter tabel na zadnji strani poglavja v učbeniku'] + df['Razmišljanje o testu matematike dan prej'] + df['Gledanje profesorja, ki na tablo rešuje enačbo'] + df['Test matematike'] + df[\"Domače naloge pri matematiki\"] +df[\"Poslušanje ure matematike v razredu\"] + df[\"Poslušanje sošolca, ki razlaga snov pri matematiki\"] + df[\"Pisanje kratkega nenapovedanega preverjanja pri matematiki\"] + df[\"Začetek nove snovi pri pouku matematike\"]\n",
    "\n",
    "\n",
    "df.drop(['Uporaba in iskanje formul ter tabel na zadnji strani poglavja v učbeniku', 'Razmišljanje o testu matematike dan prej', 'Gledanje profesorja, ki na tablo rešuje enačbo', 'Test matematike', \"Domače naloge pri matematiki\", \"Poslušanje ure matematike v razredu\", \"Poslušanje sošolca, ki razlaga snov pri matematiki\", \"Pisanje kratkega nenapovedanega preverjanja pri matematiki\", \"Začetek nove snovi pri pouku matematike\"], axis=1, inplace=True)"
   ]
  },
  {
   "cell_type": "code",
   "execution_count": 122,
   "metadata": {},
   "outputs": [],
   "source": [
    "df['Introvertiranost'] = 30 - df['Unnamed: 21'] - df['Unnamed: 25'] - df['Unnamed: 29'] + df['Unnamed: 33'] - df[\"Unnamed: 37\"] + df[\"Unnamed: 41\"] + df[\"Unnamed: 45\"] - df[\"Unnamed: 49\"]\n",
    "\n",
    "df['Sensing'] = 12 + df['Unnamed: 22'] + df['Unnamed: 26'] + df['Unnamed: 30'] + df['Unnamed: 34'] + df[\"Unnamed: 38\"] - df[\"Unnamed: 42\"] - df[\"Unnamed: 46\"] + df[\"Unnamed: 50\"]\n",
    "\n",
    "df['Feeling'] = 30 - df[\"Sem:\"] + df['Unnamed: 24'] + df['Unnamed: 28'] - df['Unnamed: 32'] - df[\"Unnamed: 36\"] + df[\"Unnamed: 40\"] - df[\"Unnamed: 44\"] - df[\"Unnamed: 48\"]\n",
    "\n",
    "\n",
    "df['Judging'] = 18 + df[\"Ko se učim:\"] + df['Unnamed: 23'] - df['Unnamed: 27'] + df['Unnamed: 31'] - df[\"Unnamed: 35\"] + df[\"Unnamed: 39\"] - df[\"Unnamed: 43\"] + df[\"Unnamed: 47\"]\n",
    "\n",
    "df.drop([\"Sem:\", \"Ko se učim:\", 'Unnamed: 21', 'Unnamed: 22', 'Unnamed: 23', 'Unnamed: 24','Unnamed: 25', 'Unnamed: 26','Unnamed: 27', 'Unnamed: 28','Unnamed: 29', 'Unnamed: 30','Unnamed: 31', 'Unnamed: 32','Unnamed: 33', 'Unnamed: 34','Unnamed: 35', 'Unnamed: 36','Unnamed: 37', 'Unnamed: 38','Unnamed: 39', 'Unnamed: 40','Unnamed: 41', 'Unnamed: 42','Unnamed: 43', 'Unnamed: 44','Unnamed: 45', 'Unnamed: 46', 'Unnamed: 47', 'Unnamed: 48','Unnamed: 49', 'Unnamed: 50',], axis=1, inplace=True)\n"
   ]
  },
  {
   "cell_type": "code",
   "execution_count": 123,
   "metadata": {},
   "outputs": [],
   "source": [
    "df.rename(columns={'Se ti je metoda (delo v skupini) zdela na sploh uspešna? Upoštevaj tako vidik napredovanja pri matematiki, kot popestritve pouka.': 'Uspesnost', 'Lanska zaključna ocena pri matematiki': 'Ocena', 'Oceni, koliko je bilo v povprečju v tandemu interakcije': 'Interakcija_kvantitativno', 'Oceni, kako produktivna je bila interakcija': 'Interakcija_kvalitativno', 'Si pripomogel več kot tvoj partner v tandemu?': 'Outperforming_partner'}, inplace=True)"
   ]
  },
  {
   "cell_type": "code",
   "execution_count": 124,
   "metadata": {},
   "outputs": [
    {
     "data": {
      "text/html": [
       "<div>\n",
       "<style scoped>\n",
       "    .dataframe tbody tr th:only-of-type {\n",
       "        vertical-align: middle;\n",
       "    }\n",
       "\n",
       "    .dataframe tbody tr th {\n",
       "        vertical-align: top;\n",
       "    }\n",
       "\n",
       "    .dataframe thead th {\n",
       "        text-align: right;\n",
       "    }\n",
       "</style>\n",
       "<table border=\"1\" class=\"dataframe\">\n",
       "  <thead>\n",
       "    <tr style=\"text-align: right;\">\n",
       "      <th></th>\n",
       "      <th>Uspesnost</th>\n",
       "      <th>Ocena</th>\n",
       "      <th>Interakcija_kvantitativno</th>\n",
       "      <th>Interakcija_kvalitativno</th>\n",
       "      <th>Outperforming_partner</th>\n",
       "      <th>Unnamed: 58</th>\n",
       "      <th>Razred</th>\n",
       "      <th>Profesor</th>\n",
       "      <th>Spol</th>\n",
       "      <th>Motivacija</th>\n",
       "      <th>Anksioznost</th>\n",
       "      <th>Introvertiranost</th>\n",
       "      <th>Sensing</th>\n",
       "      <th>Feeling</th>\n",
       "      <th>Judging</th>\n",
       "    </tr>\n",
       "  </thead>\n",
       "  <tbody>\n",
       "    <tr>\n",
       "      <th>0</th>\n",
       "      <td>3</td>\n",
       "      <td>4</td>\n",
       "      <td>3</td>\n",
       "      <td>2</td>\n",
       "      <td>3</td>\n",
       "      <td>3</td>\n",
       "      <td>0</td>\n",
       "      <td>0</td>\n",
       "      <td>0</td>\n",
       "      <td>9</td>\n",
       "      <td>27</td>\n",
       "      <td>26</td>\n",
       "      <td>25</td>\n",
       "      <td>21</td>\n",
       "      <td>23</td>\n",
       "    </tr>\n",
       "    <tr>\n",
       "      <th>1</th>\n",
       "      <td>2</td>\n",
       "      <td>1</td>\n",
       "      <td>1</td>\n",
       "      <td>2</td>\n",
       "      <td>2</td>\n",
       "      <td>1</td>\n",
       "      <td>1</td>\n",
       "      <td>1</td>\n",
       "      <td>0</td>\n",
       "      <td>9</td>\n",
       "      <td>29</td>\n",
       "      <td>28</td>\n",
       "      <td>26</td>\n",
       "      <td>24</td>\n",
       "      <td>25</td>\n",
       "    </tr>\n",
       "  </tbody>\n",
       "</table>\n",
       "</div>"
      ],
      "text/plain": [
       "   Uspesnost  Ocena  Interakcija_kvantitativno  Interakcija_kvalitativno  \\\n",
       "0          3      4                          3                         2   \n",
       "1          2      1                          1                         2   \n",
       "\n",
       "   Outperforming_partner  Unnamed: 58  Razred  Profesor  Spol  Motivacija  \\\n",
       "0                      3            3       0         0     0           9   \n",
       "1                      2            1       1         1     0           9   \n",
       "\n",
       "   Anksioznost  Introvertiranost  Sensing  Feeling  Judging  \n",
       "0           27                26       25       21       23  \n",
       "1           29                28       26       24       25  "
      ]
     },
     "execution_count": 124,
     "metadata": {},
     "output_type": "execute_result"
    }
   ],
   "source": [
    "df.head()"
   ]
  },
  {
   "cell_type": "markdown",
   "metadata": {},
   "source": [
    "PREVERI KAJ JE UNNAMED 58"
   ]
  },
  {
   "cell_type": "code",
   "execution_count": 126,
   "metadata": {},
   "outputs": [],
   "source": [
    "df.to_excel(\"data_cleaned.xlsx\")"
   ]
  }
 ],
 "metadata": {
  "kernelspec": {
   "display_name": "Python 3",
   "language": "python",
   "name": "python3"
  },
  "language_info": {
   "codemirror_mode": {
    "name": "ipython",
    "version": 3
   },
   "file_extension": ".py",
   "mimetype": "text/x-python",
   "name": "python",
   "nbconvert_exporter": "python",
   "pygments_lexer": "ipython3",
   "version": "3.11.4"
  },
  "orig_nbformat": 4
 },
 "nbformat": 4,
 "nbformat_minor": 2
}
