{
 "cells": [
  {
   "attachments": {},
   "cell_type": "markdown",
   "metadata": {},
   "source": [
    "# Priprava podatkov"
   ]
  },
  {
   "cell_type": "code",
   "execution_count": 1,
   "metadata": {},
   "outputs": [],
   "source": [
    "import numpy as np\n",
    "import pandas as pd"
   ]
  },
  {
   "attachments": {},
   "cell_type": "markdown",
   "metadata": {},
   "source": [
    "Preberemo datoteko"
   ]
  },
  {
   "cell_type": "code",
   "execution_count": 6,
   "metadata": {},
   "outputs": [],
   "source": [
    "df = pd.read_csv(\"data_dijaki.csv\")"
   ]
  },
  {
   "cell_type": "code",
   "execution_count": 12,
   "metadata": {},
   "outputs": [
    {
     "data": {
      "text/html": [
       "<div>\n",
       "<style scoped>\n",
       "    .dataframe tbody tr th:only-of-type {\n",
       "        vertical-align: middle;\n",
       "    }\n",
       "\n",
       "    .dataframe tbody tr th {\n",
       "        vertical-align: top;\n",
       "    }\n",
       "\n",
       "    .dataframe thead th {\n",
       "        text-align: right;\n",
       "    }\n",
       "</style>\n",
       "<table border=\"1\" class=\"dataframe\">\n",
       "  <thead>\n",
       "    <tr style=\"text-align: right;\">\n",
       "      <th></th>\n",
       "      <th>uspesnost</th>\n",
       "      <th>uspesnost_ocena</th>\n",
       "      <th>uspesnost_popestritev</th>\n",
       "      <th>kviz_1</th>\n",
       "      <th>ocena</th>\n",
       "      <th>razred</th>\n",
       "      <th>spol</th>\n",
       "      <th>profesor</th>\n",
       "      <th>interakcija_kvantitativno</th>\n",
       "      <th>interakcija_kvalitativno</th>\n",
       "      <th>pripomogel_vec</th>\n",
       "      <th>prisotnost_ucitelja</th>\n",
       "    </tr>\n",
       "  </thead>\n",
       "  <tbody>\n",
       "    <tr>\n",
       "      <th>0</th>\n",
       "      <td>3</td>\n",
       "      <td>2</td>\n",
       "      <td>3</td>\n",
       "      <td>100000000</td>\n",
       "      <td>5</td>\n",
       "      <td>2. b</td>\n",
       "      <td>Ženska</td>\n",
       "      <td>dr. Marina Rugelj</td>\n",
       "      <td>3</td>\n",
       "      <td>1</td>\n",
       "      <td>3</td>\n",
       "      <td>2</td>\n",
       "    </tr>\n",
       "    <tr>\n",
       "      <th>1</th>\n",
       "      <td>1</td>\n",
       "      <td>1</td>\n",
       "      <td>1</td>\n",
       "      <td>🅱️</td>\n",
       "      <td>5</td>\n",
       "      <td>2. a</td>\n",
       "      <td>Moški</td>\n",
       "      <td>dr. Marina Rugelj</td>\n",
       "      <td>1</td>\n",
       "      <td>3</td>\n",
       "      <td>2</td>\n",
       "      <td>2</td>\n",
       "    </tr>\n",
       "    <tr>\n",
       "      <th>2</th>\n",
       "      <td>1</td>\n",
       "      <td>5</td>\n",
       "      <td>1</td>\n",
       "      <td>69</td>\n",
       "      <td>5</td>\n",
       "      <td>2. b</td>\n",
       "      <td>Ženska</td>\n",
       "      <td>dr. Marina Rugelj</td>\n",
       "      <td>3</td>\n",
       "      <td>3</td>\n",
       "      <td>3</td>\n",
       "      <td>3</td>\n",
       "    </tr>\n",
       "  </tbody>\n",
       "</table>\n",
       "</div>"
      ],
      "text/plain": [
       "   uspesnost  uspesnost_ocena  uspesnost_popestritev     kviz_1  ocena razred  \\\n",
       "0          3                2                      3  100000000      5   2. b   \n",
       "1          1                1                      1         🅱️      5   2. a   \n",
       "2          1                5                      1         69      5   2. b   \n",
       "\n",
       "     spol           profesor  interakcija_kvantitativno  \\\n",
       "0  Ženska  dr. Marina Rugelj                          3   \n",
       "1   Moški  dr. Marina Rugelj                          1   \n",
       "2  Ženska  dr. Marina Rugelj                          3   \n",
       "\n",
       "   interakcija_kvalitativno  pripomogel_vec  prisotnost_ucitelja  \n",
       "0                         1               3                    2  \n",
       "1                         3               2                    2  \n",
       "2                         3               3                    3  "
      ]
     },
     "execution_count": 12,
     "metadata": {},
     "output_type": "execute_result"
    }
   ],
   "source": [
    "df.head()"
   ]
  },
  {
   "cell_type": "code",
   "execution_count": 9,
   "metadata": {},
   "outputs": [],
   "source": [
    "df.drop(\"Časovni žig\", axis=1, inplace=True)\n",
    "df.reset_index(drop=True, inplace=True)"
   ]
  },
  {
   "cell_type": "code",
   "execution_count": 11,
   "metadata": {},
   "outputs": [],
   "source": [
    "df.columns = [\"uspesnost\",\"uspesnost_ocena\",\"uspesnost_popestritev\",\"kviz_1\",\"ocena\",\"razred\",\"spol\",\"profesor\",\"interakcija_kvantitativno\",\"interakcija_kvalitativno\",\"pripomogel_vec\",\"prisotnost_ucitelja\"]"
   ]
  },
  {
   "attachments": {},
   "cell_type": "markdown",
   "metadata": {},
   "source": [
    "Kategoricne damo v 0 1"
   ]
  },
  {
   "cell_type": "code",
   "execution_count": 14,
   "metadata": {},
   "outputs": [],
   "source": [
    "df_one = pd.get_dummies(df[\"spol\"])\n",
    "df_two = pd.concat((df_one, df), axis=1)\n",
    "df_two = df_two.drop([\"spol\"], axis=1)\n",
    "df_two = df_two.drop([\"Moški\"], axis=1)\n",
    "df = df_two.rename(columns={\"Ženska\": \"spol\"})"
   ]
  },
  {
   "cell_type": "code",
   "execution_count": 16,
   "metadata": {},
   "outputs": [],
   "source": [
    "from sklearn.preprocessing import LabelEncoder\n",
    " \n",
    "# Creating a instance of label Encoder.\n",
    "le = LabelEncoder()\n",
    " \n",
    "# Using .fit_transform function to fit label\n",
    "# encoder and return encoded label\n",
    "label = le.fit_transform(df['razred'])\n",
    " \n",
    "df.drop(\"razred\", axis=1, inplace=True)\n",
    " \n",
    "# Appending the array to our dataFrame\n",
    "# with column name 'Purchased'\n",
    "df[\"razred\"] = label"
   ]
  },
  {
   "cell_type": "code",
   "execution_count": 17,
   "metadata": {},
   "outputs": [],
   "source": [
    "label = le.fit_transform(df['profesor'])\n",
    " \n",
    "df.drop(\"profesor\", axis=1, inplace=True)\n",
    " \n",
    "# Appending the array to our dataFrame\n",
    "# with column name 'Purchased'\n",
    "df[\"profesor\"] = label"
   ]
  },
  {
   "cell_type": "code",
   "execution_count": 18,
   "metadata": {},
   "outputs": [],
   "source": [
    "df.to_excel(\"data_cleaned.xlsx\")"
   ]
  }
 ],
 "metadata": {
  "kernelspec": {
   "display_name": "Python 3",
   "language": "python",
   "name": "python3"
  },
  "language_info": {
   "codemirror_mode": {
    "name": "ipython",
    "version": 3
   },
   "file_extension": ".py",
   "mimetype": "text/x-python",
   "name": "python",
   "nbconvert_exporter": "python",
   "pygments_lexer": "ipython3",
   "version": "3.11.4"
  },
  "orig_nbformat": 4
 },
 "nbformat": 4,
 "nbformat_minor": 2
}
