{
 "cells": [
  {
   "attachments": {},
   "cell_type": "markdown",
   "metadata": {},
   "source": [
    "# Priprava podatkov"
   ]
  },
  {
   "cell_type": "code",
   "execution_count": 1,
   "metadata": {},
   "outputs": [],
   "source": [
    "import numpy as np\n",
    "import pandas as pd"
   ]
  },
  {
   "attachments": {},
   "cell_type": "markdown",
   "metadata": {},
   "source": [
    "Preberemo datoteko"
   ]
  },
  {
   "cell_type": "code",
   "execution_count": 2,
   "metadata": {},
   "outputs": [],
   "source": [
    "df = pd.read_csv(\"data_dijaki.csv\")"
   ]
  },
  {
   "cell_type": "code",
   "execution_count": 3,
   "metadata": {},
   "outputs": [],
   "source": [
    "# par dijakov ne ve v kerm razredu so...\n",
    "df.loc[df['Uporabniško ime'] == \"matija.plesko@stanislav.si\", 'Razred'] = \"3. č\"\n",
    "df.loc[df['Uporabniško ime'] == \"aleks.jersic@stanislav.si\", 'Razred'] = \"3. č\"\n",
    "df.loc[df['Uporabniško ime'] == \"pannaveronika.horvath@stanislav.si\", 'Razred'] = \"3. a\"\n",
    "df.loc[df['Uporabniško ime'] == \"anze.rifel@stanislav.si\", 'Razred'] = \"3. d\"\n"
   ]
  },
  {
   "cell_type": "code",
   "execution_count": 4,
   "metadata": {},
   "outputs": [],
   "source": [
    "manjkajoci = df.sort_values(by=['Razred'], ascending=False)\n",
    "manjkajoci = manjkajoci[['Uporabniško ime','Razred']]\n",
    "manjkajoci.to_excel(\"manjkajoci.xlsx\")"
   ]
  },
  {
   "cell_type": "code",
   "execution_count": 5,
   "metadata": {},
   "outputs": [],
   "source": [
    "df.drop(\"Časovni žig\", axis=1, inplace=True)\n",
    "df.drop(\"Uporabniško ime\", axis=1, inplace=True)\n",
    "df.reset_index(drop=True, inplace=True)"
   ]
  },
  {
   "cell_type": "code",
   "execution_count": 6,
   "metadata": {},
   "outputs": [],
   "source": [
    "#df.columns = [\"uspesnost\",\"uspesnost_ocena\",\"uspesnost_popestritev\",\"kviz_1\",\"ocena\",\"razred\",\"spol\",\"profesor\",\"interakcija_kvantitativno\",\"interakcija_kvalitativno\",\"pripomogel_vec\",\"prisotnost_ucitelja\"]"
   ]
  },
  {
   "attachments": {},
   "cell_type": "markdown",
   "metadata": {},
   "source": [
    "Kategoricne damo v 0 1"
   ]
  },
  {
   "cell_type": "code",
   "execution_count": 7,
   "metadata": {},
   "outputs": [],
   "source": [
    "from sklearn.preprocessing import LabelEncoder\n",
    " \n",
    "# Creating a instance of label Encoder.\n",
    "le = LabelEncoder()\n",
    " \n",
    "# Using .fit_transform function to fit label\n",
    "# encoder and return encoded label\n",
    "label = le.fit_transform(df['Razred'])\n",
    " \n",
    "df.drop(\"Razred\", axis=1, inplace=True)\n",
    " \n",
    "# Appending the array to our dataFrame\n",
    "# with column name 'Purchased'\n",
    "df[\"Razred\"] = label"
   ]
  },
  {
   "cell_type": "code",
   "execution_count": 8,
   "metadata": {},
   "outputs": [],
   "source": [
    "label = le.fit_transform(df['Učeči profesor'])\n",
    " \n",
    "df.drop(\"Učeči profesor\", axis=1, inplace=True)\n",
    " \n",
    "# Appending the array to our dataFrame\n",
    "# with column name 'Purchased'\n",
    "df[\"Profesor\"] = label"
   ]
  },
  {
   "cell_type": "code",
   "execution_count": 9,
   "metadata": {},
   "outputs": [],
   "source": [
    "label = le.fit_transform(df['Spol'])\n",
    " \n",
    "df.drop(\"Spol\", axis=1, inplace=True)\n",
    " \n",
    "# Appending the array to our dataFrame\n",
    "# with column name 'Purchased'\n",
    "df[\"Spol\"] = label"
   ]
  },
  {
   "cell_type": "code",
   "execution_count": 10,
   "metadata": {},
   "outputs": [],
   "source": [
    "df = df.apply(pd.to_numeric)"
   ]
  },
  {
   "cell_type": "markdown",
   "metadata": {},
   "source": [
    "Kalkulacija motivacije, anksioznosti in MBTI"
   ]
  },
  {
   "cell_type": "code",
   "execution_count": 11,
   "metadata": {},
   "outputs": [],
   "source": [
    "df['Motivacija'] = df['V moji izobraževalni poti želim imeti čim več matematike'] +6-df['Na fakulteti bi se rad izognil matematiki'] + df['Težavnost matematike me privlači'] + df['Učenje (napredne) matematike smatram za uporabno'] + df[\"Deljenje idej za reševanje matematičnega problema mi je v coni udobja\"] +df[\"Rad imam matematiko\"] +6-df[\"Matematika je dolgočasna\"]\n",
    "\n",
    "\n",
    "\n",
    "df.drop(['V moji izobraževalni poti želim imeti čim več matematike', 'Na fakulteti bi se rad izognil matematiki', 'Težavnost matematike me privlači', 'Učenje (napredne) matematike smatram za uporabno', \"Deljenje idej za reševanje matematičnega problema mi je v coni udobja\", \"Rad imam matematiko\", \"Matematika je dolgočasna\"], axis=1, inplace=True)"
   ]
  },
  {
   "cell_type": "code",
   "execution_count": 12,
   "metadata": {},
   "outputs": [],
   "source": [
    "df['Anksioznost'] = df['Uporaba in iskanje formul ter tabel na zadnji strani poglavja v učbeniku'] + df['Razmišljanje o testu matematike dan prej'] + df['Gledanje profesorja, ki na tablo rešuje enačbo'] + df['Test matematike'] + df[\"Domače naloge pri matematiki\"] +df[\"Poslušanje ure matematike v razredu\"] + df[\"Poslušanje sošolca, ki razlaga snov pri matematiki\"] + df[\"Pisanje kratkega nenapovedanega preverjanja pri matematiki\"] + df[\"Začetek nove snovi pri pouku matematike\"]\n",
    "\n",
    "\n",
    "df.drop(['Uporaba in iskanje formul ter tabel na zadnji strani poglavja v učbeniku', 'Razmišljanje o testu matematike dan prej', 'Gledanje profesorja, ki na tablo rešuje enačbo', 'Test matematike', \"Domače naloge pri matematiki\", \"Poslušanje ure matematike v razredu\", \"Poslušanje sošolca, ki razlaga snov pri matematiki\", \"Pisanje kratkega nenapovedanega preverjanja pri matematiki\", \"Začetek nove snovi pri pouku matematike\"], axis=1, inplace=True)"
   ]
  },
  {
   "cell_type": "code",
   "execution_count": 13,
   "metadata": {},
   "outputs": [],
   "source": [
    "df['Introvertiranost'] = 30 - df['Unnamed: 21'] - df['Unnamed: 25'] - df['Unnamed: 29'] + df['Unnamed: 33'] - df[\"Unnamed: 37\"] + df[\"Unnamed: 41\"] + df[\"Unnamed: 45\"] - df[\"Unnamed: 49\"]\n",
    "\n",
    "df['Sensing'] = 12 + df['Unnamed: 22'] + df['Unnamed: 26'] + df['Unnamed: 30'] + df['Unnamed: 34'] + df[\"Unnamed: 38\"] - df[\"Unnamed: 42\"] - df[\"Unnamed: 46\"] + df[\"Unnamed: 50\"]\n",
    "\n",
    "df['Feeling'] = 30 - df[\"Sem:\"] + df['Unnamed: 24'] + df['Unnamed: 28'] - df['Unnamed: 32'] - df[\"Unnamed: 36\"] + df[\"Unnamed: 40\"] - df[\"Unnamed: 44\"] - df[\"Unnamed: 48\"]\n",
    "\n",
    "\n",
    "df['Judging'] = 18 + df[\"Ko se učim:\"] + df['Unnamed: 23'] - df['Unnamed: 27'] + df['Unnamed: 31'] - df[\"Unnamed: 35\"] + df[\"Unnamed: 39\"] - df[\"Unnamed: 43\"] + df[\"Unnamed: 47\"]\n",
    "\n",
    "df.drop([\"Sem:\", \"Ko se učim:\", 'Unnamed: 21', 'Unnamed: 22', 'Unnamed: 23', 'Unnamed: 24','Unnamed: 25', 'Unnamed: 26','Unnamed: 27', 'Unnamed: 28','Unnamed: 29', 'Unnamed: 30','Unnamed: 31', 'Unnamed: 32','Unnamed: 33', 'Unnamed: 34','Unnamed: 35', 'Unnamed: 36','Unnamed: 37', 'Unnamed: 38','Unnamed: 39', 'Unnamed: 40','Unnamed: 41', 'Unnamed: 42','Unnamed: 43', 'Unnamed: 44','Unnamed: 45', 'Unnamed: 46', 'Unnamed: 47', 'Unnamed: 48','Unnamed: 49', 'Unnamed: 50',], axis=1, inplace=True)\n"
   ]
  },
  {
   "cell_type": "code",
   "execution_count": 14,
   "metadata": {},
   "outputs": [],
   "source": [
    "df.rename(columns={'Se ti je metoda (delo v skupini) zdela na sploh uspešna? Upoštevaj tako vidik napredovanja pri matematiki, kot popestritve pouka.': 'Uspesnost', 'Lanska zaključna ocena pri matematiki': 'Ocena', 'Oceni, koliko je bilo v povprečju v tandemu interakcije': 'Interakcija_kvantitativno', 'Oceni, kako produktivna je bila interakcija': 'Interakcija_kvalitativno', 'Si pripomogel več kot tvoj partner v tandemu?': 'Outperforming_partner'}, inplace=True)"
   ]
  },
  {
   "cell_type": "code",
   "execution_count": 15,
   "metadata": {},
   "outputs": [],
   "source": [
    "df.to_excel(\"data_cleaned.xlsx\")"
   ]
  }
 ],
 "metadata": {
  "kernelspec": {
   "display_name": "Python 3",
   "language": "python",
   "name": "python3"
  },
  "language_info": {
   "codemirror_mode": {
    "name": "ipython",
    "version": 3
   },
   "file_extension": ".py",
   "mimetype": "text/x-python",
   "name": "python",
   "nbconvert_exporter": "python",
   "pygments_lexer": "ipython3",
   "version": "3.11.4"
  },
  "orig_nbformat": 4
 },
 "nbformat": 4,
 "nbformat_minor": 2
}
